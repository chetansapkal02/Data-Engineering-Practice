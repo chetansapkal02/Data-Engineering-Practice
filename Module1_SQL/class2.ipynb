{
 "cells": [
  {
   "cell_type": "code",
   "execution_count": 0,
   "metadata": {
    "application/vnd.databricks.v1+cell": {
     "cellMetadata": {
      "byteLimit": 2048000,
      "rowLimit": 10000
     },
     "inputWidgets": {},
     "nuid": "281cda20-5b9b-444c-9b6e-49fb51a490d7",
     "showTitle": false,
     "tableResultSettingsMap": {},
     "title": ""
    }
   },
   "outputs": [],
   "source": [
    "%sql\n"
   ]
  },
  {
   "cell_type": "code",
   "execution_count": 0,
   "metadata": {
    "application/vnd.databricks.v1+cell": {
     "cellMetadata": {
      "byteLimit": 2048000,
      "implicitDf": true,
      "rowLimit": 10000
     },
     "inputWidgets": {},
     "nuid": "2250f7da-3f27-410a-882e-324660e06ad3",
     "showTitle": false,
     "tableResultSettingsMap": {},
     "title": ""
    }
   },
   "outputs": [],
   "source": [
    "%sql\n",
    "CREATE TABLE employees (\n",
    "    emp_id INT,\n",
    "    first_name VARCHAR(50),\n",
    "    last_name VARCHAR(50),\n",
    "    department VARCHAR(50),\n",
    "    job_title VARCHAR(50),\n",
    "    salary DECIMAL(10, 2),\n",
    "    hire_date DATE,\n",
    "    status VARCHAR(20),\n",
    "    city VARCHAR(50),\n",
    "    email VARCHAR(100)\n",
    ");"
   ]
  },
  {
   "cell_type": "code",
   "execution_count": 0,
   "metadata": {
    "application/vnd.databricks.v1+cell": {
     "cellMetadata": {
      "byteLimit": 2048000,
      "implicitDf": true,
      "rowLimit": 10000
     },
     "inputWidgets": {},
     "nuid": "8ae5f53e-f9ac-461d-b94b-453862c175cd",
     "showTitle": false,
     "tableResultSettingsMap": {},
     "title": ""
    }
   },
   "outputs": [],
   "source": [
    "%sql\n",
    "INSERT INTO employees VALUES\n",
    "(1, 'John', 'Doe', 'Engineering', 'Software Engineer', 75000.00, '2020-05-15', 'Active', 'Bangalore', 'john.doe@example.com'),\n",
    "(2, 'Jane', 'Smith', 'HR', 'HR Manager', 65000.00, '2019-03-10', 'Active', 'Mumbai', 'jane.smith@example.com'),\n",
    "(3, 'Raj', 'Kumar', 'Engineering', 'Data Engineer', 85000.00, '2021-07-01', 'Active', 'Hyderabad', 'raj.kumar@example.com'),\n",
    "(4, 'Priya', 'Sharma', 'Marketing', 'Marketing Analyst', 60000.00, '2018-11-22', 'Active', 'Delhi', 'priya.sharma@example.com'),\n",
    "(5, 'Tom', 'Brown', 'Sales', 'Sales Executive', 55000.00, '2022-01-05', 'Active', 'Chennai', 'tom.brown@example.com'),\n",
    "(6, 'Sara', 'Ali', 'Engineering', 'Backend Developer', 78000.00, '2020-09-17', 'Active', 'Pune', 'sara.ali@example.com'),\n",
    "(7, 'Amit', 'Verma', 'Finance', 'Accountant', 62000.00, '2017-06-30', 'Inactive', 'Bangalore', 'amit.verma@example.com'),\n",
    "(8, 'Emily', 'Clark', 'HR', 'Recruiter', 50000.00, '2021-02-14', 'Active', 'Mumbai', 'emily.clark@example.com'),\n",
    "(9, 'Vikram', 'Singh', 'Engineering', 'DevOps Engineer', 90000.00, '2019-08-19', 'Active', 'Hyderabad', 'vikram.singh@example.com'),\n",
    "(10, 'Neha', 'Patel', 'Sales', 'Regional Manager', 95000.00, '2015-04-01', 'Active', 'Delhi', 'neha.patel@example.com');\n"
   ]
  },
  {
   "cell_type": "code",
   "execution_count": 0,
   "metadata": {
    "application/vnd.databricks.v1+cell": {
     "cellMetadata": {
      "byteLimit": 2048000,
      "implicitDf": true,
      "rowLimit": 10000
     },
     "inputWidgets": {},
     "nuid": "89dfd31e-6433-4dbd-a8c6-8ed1dd643cd2",
     "showTitle": false,
     "tableResultSettingsMap": {},
     "title": ""
    }
   },
   "outputs": [],
   "source": [
    "%sql\n",
    "INSERT INTO employees VALUES\n",
    "(11, 'David', 'Lee', 'Engineering', 'Frontend Developer', 72000.00, '2020-03-11', 'Active', 'Chennai', 'david.lee@example.com'),\n",
    "(12, 'Ananya', 'Roy', 'Finance', 'Financial Analyst', 67000.00, '2019-07-25', 'Active', 'Pune', 'ananya.roy@example.com'),\n",
    "(13, 'Sam', 'Wilson', 'Marketing', 'Content Strategist', 58000.00, '2021-11-30', 'Active', 'Delhi', 'sam.wilson@example.com'),\n",
    "(14, 'Pooja', 'Das', 'Sales', 'Sales Associate', 52000.00, '2018-10-02', 'Inactive', 'Bangalore', 'pooja.das@example.com'),\n",
    "(15, 'Arjun', 'Nair', 'Engineering', 'Data Scientist', 98000.00, '2021-05-20', 'Active', 'Hyderabad', 'arjun.nair@example.com'),\n",
    "(16, 'Kavita', 'Gupta', 'HR', 'Compensation Analyst', 61000.00, '2017-01-16', 'Active', 'Mumbai', 'kavita.gupta@example.com'),\n",
    "(17, 'Robert', 'King', 'Engineering', 'Software Architect', 120000.00, '2016-09-05', 'Active', 'Delhi', 'robert.king@example.com'),\n",
    "(18, 'Meera', 'Joshi', 'Finance', 'Auditor', 69000.00, '2020-12-11', 'Active', 'Pune', 'meera.joshi@example.com'),\n",
    "(19, 'Michael', 'Scott', 'Sales', 'Regional Sales Head', 115000.00, '2015-06-20', 'Active', 'Chennai', 'michael.scott@example.com'),\n",
    "(20, 'Ravi', 'Menon', 'Engineering', 'Machine Learning Engineer', 93000.00, '2019-04-15', 'Active', 'Hyderabad', 'ravi.menon@example.com'),\n",
    "(21, 'Tina', 'Fernandez', 'Marketing', 'SEO Specialist', 57000.00, '2018-05-22', 'Active', 'Delhi', 'tina.fernandez@example.com'),\n",
    "(22, 'Arvind', 'Singh', 'Finance', 'Tax Consultant', 65000.00, '2020-01-25', 'Active', 'Mumbai', 'arvind.singh@example.com'),\n",
    "(23, 'Lucy', 'Adams', 'HR', 'HR Coordinator', 48000.00, '2021-09-10', 'Active', 'Bangalore', 'lucy.adams@example.com'),\n",
    "(24, 'Karan', 'Malhotra', 'Engineering', 'Tech Lead', 105000.00, '2017-11-18', 'Active', 'Chennai', 'karan.malhotra@example.com'),\n",
    "(25, 'Sneha', 'Reddy', 'Sales', 'Sales Manager', 88000.00, '2016-02-09', 'Active', 'Hyderabad', 'sneha.reddy@example.com'),\n",
    "(26, 'George', 'Mason', 'Finance', 'Payroll Specialist', 60000.00, '2022-04-08', 'Active', 'Pune', 'george.mason@example.com'),\n",
    "(27, 'Vishal', 'Kapoor', 'Marketing', 'Brand Manager', 75000.00, '2019-03-19', 'Active', 'Delhi', 'vishal.kapoor@example.com'),\n",
    "(28, 'Emma', 'Watson', 'Engineering', 'QA Engineer', 70000.00, '2020-07-15', 'Active', 'Bangalore', 'emma.watson@example.com'),\n",
    "(29, 'Siddharth', 'Jain', 'Engineering', 'Cloud Engineer', 89000.00, '2018-06-25', 'Active', 'Hyderabad', 'siddharth.jain@example.com'),\n",
    "(30, 'Olivia', 'Brown', 'Sales', 'Territory Manager', 81000.00, '2017-04-05', 'Active', 'Mumbai', 'olivia.brown@example.com'),\n",
    "(31, 'Nikhil', 'Arora', 'Finance', 'Business Analyst', 68000.00, '2021-03-27', 'Active', 'Chennai', 'nikhil.arora@example.com'),\n",
    "(32, 'Ayesha', 'Khan', 'HR', 'Training Specialist', 59000.00, '2019-08-02', 'Active', 'Pune', 'ayesha.khan@example.com'),\n",
    "(33, 'Chris', 'Evans', 'Engineering', 'Security Analyst', 94000.00, '2020-12-18', 'Active', 'Delhi', 'chris.evans@example.com'),\n",
    "(34, 'Ishita', 'Bhatt', 'Marketing', 'Social Media Manager', 63000.00, '2018-07-21', 'Active', 'Bangalore', 'ishita.bhatt@example.com'),\n",
    "(35, 'Shyam', 'Patil', 'Engineering', 'Data Analyst', 76000.00, '2017-02-15', 'Active', 'Hyderabad', 'shyam.patil@example.com'),\n",
    "(36, 'Sophia', 'Green', 'Sales', 'Sales Coordinator', 54000.00, '2022-05-01', 'Active', 'Mumbai', 'sophia.green@example.com'),\n",
    "(37, 'Harsh', 'Aggarwal', 'Finance', 'Investment Analyst', 88000.00, '2016-11-28', 'Active', 'Delhi', 'harsh.aggarwal@example.com'),\n",
    "(38, 'Liam', 'Martin', 'Engineering', 'AI Engineer', 115000.00, '2019-09-30', 'Active', 'Chennai', 'liam.martin@example.com'),\n",
    "(39, 'Diya', 'Saxena', 'HR', 'HRBP', 74000.00, '2020-02-07', 'Active', 'Pune', 'diya.saxena@example.com'),\n",
    "(40, 'Jason', 'Taylor', 'Marketing', 'Market Research Analyst', 58000.00, '2021-06-11', 'Active', 'Hyderabad', 'jason.taylor@example.com'),\n",
    "(41, 'Ritika', 'Mehra', 'Engineering', 'Mobile App Developer', 77000.00, '2018-01-13', 'Active', 'Delhi', 'ritika.mehra@example.com'),\n",
    "(42, 'Steve', 'Jobs', 'Engineering', 'Product Manager', 125000.00, '2015-12-20', 'Active', 'Bangalore', 'steve.jobs@example.com'),\n",
    "(43, 'Alisha', 'Paul', 'Sales', 'Inside Sales Rep', 56000.00, '2020-04-23', 'Active', 'Chennai', 'alisha.paul@example.com'),\n",
    "(44, 'Dhruv', 'Singhania', 'Finance', 'Risk Manager', 97000.00, '2017-10-14', 'Active', 'Mumbai', 'dhruv.singhania@example.com'),\n",
    "(45, 'Rebecca', 'Lewis', 'Marketing', 'PR Specialist', 64000.00, '2019-05-18', 'Active', 'Pune', 'rebecca.lewis@example.com'),\n",
    "(46, 'Naveen', 'Shetty', 'Engineering', 'Technical Support Engineer', 66000.00, '2021-01-12', 'Active', 'Hyderabad', 'naveen.shetty@example.com'),\n",
    "(47, 'Julia', 'Roberts', 'HR', 'HR Generalist', 61000.00, '2018-09-03', 'Active', 'Delhi', 'julia.roberts@example.com'),\n",
    "(48, 'Parth', 'Desai', 'Finance', 'Treasury Analyst', 70000.00, '2019-12-29', 'Active', 'Chennai', 'parth.desai@example.com'),\n",
    "(49, 'Nina', 'Shah', 'Engineering', 'Systems Engineer', 73000.00, '2020-06-17', 'Active', 'Bangalore', 'nina.shah@example.com'),\n",
    "(50, 'Aria', 'Gill', 'Marketing', 'Advertising Manager', 82000.00, '2017-08-09', 'Active', 'Mumbai', 'aria.gill@example.com');\n"
   ]
  },
  {
   "cell_type": "code",
   "execution_count": 0,
   "metadata": {
    "application/vnd.databricks.v1+cell": {
     "cellMetadata": {
      "byteLimit": 2048000,
      "implicitDf": true,
      "rowLimit": 10000
     },
     "inputWidgets": {},
     "nuid": "2a92dd1a-790a-42b7-a8c2-c8cb0cf95bc6",
     "showTitle": false,
     "tableResultSettingsMap": {},
     "title": ""
    }
   },
   "outputs": [],
   "source": [
    "%sql \n",
    "select emp_id,first_name,salary from employees where salary > 100000"
   ]
  },
  {
   "cell_type": "code",
   "execution_count": 0,
   "metadata": {
    "application/vnd.databricks.v1+cell": {
     "cellMetadata": {
      "byteLimit": 2048000,
      "implicitDf": true,
      "rowLimit": 10000
     },
     "inputWidgets": {},
     "nuid": "6a8c84d9-a377-4b33-aac3-64450ad4cb41",
     "showTitle": false,
     "tableResultSettingsMap": {},
     "title": ""
    }
   },
   "outputs": [],
   "source": [
    "%sql\n",
    "SELECT * FROM employees where status = 'Active' and city = 'Bangalore'"
   ]
  },
  {
   "cell_type": "code",
   "execution_count": 0,
   "metadata": {
    "application/vnd.databricks.v1+cell": {
     "cellMetadata": {
      "byteLimit": 2048000,
      "implicitDf": true,
      "rowLimit": 10000
     },
     "inputWidgets": {},
     "nuid": "7c915fee-f926-459d-9182-a72e11dde41b",
     "showTitle": false,
     "tableResultSettingsMap": {},
     "title": ""
    }
   },
   "outputs": [],
   "source": [
    "%sql\n",
    "select * from employees where department in ('Engineering','HR') and salary > 90000 and city = 'Delhi'"
   ]
  },
  {
   "cell_type": "code",
   "execution_count": 0,
   "metadata": {
    "application/vnd.databricks.v1+cell": {
     "cellMetadata": {
      "byteLimit": 2048000,
      "implicitDf": true,
      "rowLimit": 10000
     },
     "inputWidgets": {},
     "nuid": "38ca6e15-0346-458d-9b0c-39cefb709bd7",
     "showTitle": false,
     "tableResultSettingsMap": {},
     "title": ""
    }
   },
   "outputs": [],
   "source": [
    "%sql\n",
    "select * from employees where hire_date > '2020-01-01'"
   ]
  },
  {
   "cell_type": "code",
   "execution_count": 0,
   "metadata": {
    "application/vnd.databricks.v1+cell": {
     "cellMetadata": {
      "byteLimit": 2048000,
      "implicitDf": true,
      "rowLimit": 10000
     },
     "inputWidgets": {},
     "nuid": "01a120e4-2997-4599-a549-57a7b3326186",
     "showTitle": false,
     "tableResultSettingsMap": {},
     "title": ""
    }
   },
   "outputs": [],
   "source": [
    "%sql\n",
    "select * from employees order by salary desc limit 10"
   ]
  },
  {
   "cell_type": "code",
   "execution_count": 0,
   "metadata": {
    "application/vnd.databricks.v1+cell": {
     "cellMetadata": {
      "byteLimit": 2048000,
      "implicitDf": true,
      "rowLimit": 10000
     },
     "inputWidgets": {},
     "nuid": "a2372651-eeea-41b0-a869-8e2750b4c6ba",
     "showTitle": false,
     "tableResultSettingsMap": {},
     "title": ""
    }
   },
   "outputs": [],
   "source": [
    "%sql\n",
    "SELECT * FROM employees ORDER BY salary desc limit 1 OFFSET 2"
   ]
  },
  {
   "cell_type": "code",
   "execution_count": 0,
   "metadata": {
    "application/vnd.databricks.v1+cell": {
     "cellMetadata": {
      "byteLimit": 2048000,
      "implicitDf": true,
      "rowLimit": 10000
     },
     "inputWidgets": {},
     "nuid": "06207d2e-208a-44bd-ae05-6f287852a981",
     "showTitle": false,
     "tableResultSettingsMap": {},
     "title": ""
    }
   },
   "outputs": [],
   "source": [
    "%sql\n",
    "select distinct first_name from employees"
   ]
  },
  {
   "cell_type": "code",
   "execution_count": 0,
   "metadata": {
    "application/vnd.databricks.v1+cell": {
     "cellMetadata": {
      "byteLimit": 2048000,
      "rowLimit": 10000
     },
     "inputWidgets": {},
     "nuid": "c7cbbf13-424a-4fd7-92fd-04fca68f4597",
     "showTitle": false,
     "tableResultSettingsMap": {},
     "title": ""
    }
   },
   "outputs": [],
   "source": [
    "select 1 from employees"
   ]
  },
  {
   "cell_type": "code",
   "execution_count": 0,
   "metadata": {
    "application/vnd.databricks.v1+cell": {
     "cellMetadata": {
      "byteLimit": 2048000,
      "rowLimit": 10000
     },
     "inputWidgets": {},
     "nuid": "79890d00-89ad-4d8b-9498-b57b23b5e6b5",
     "showTitle": false,
     "tableResultSettingsMap": {},
     "title": ""
    }
   },
   "outputs": [],
   "source": [
    "select count(*) from employees"
   ]
  },
  {
   "cell_type": "code",
   "execution_count": 0,
   "metadata": {
    "application/vnd.databricks.v1+cell": {
     "cellMetadata": {
      "byteLimit": 2048000,
      "rowLimit": 10000
     },
     "inputWidgets": {},
     "nuid": "f7965d58-5dd2-471c-ab36-0f4bc0881d77",
     "showTitle": false,
     "tableResultSettingsMap": {},
     "title": ""
    }
   },
   "outputs": [],
   "source": [
    "select count(1) from employees"
   ]
  },
  {
   "cell_type": "code",
   "execution_count": 0,
   "metadata": {
    "application/vnd.databricks.v1+cell": {
     "cellMetadata": {
      "byteLimit": 2048000,
      "rowLimit": 10000
     },
     "inputWidgets": {},
     "nuid": "ad191480-87a8-4d13-9799-0b693367395f",
     "showTitle": false,
     "tableResultSettingsMap": {},
     "title": ""
    }
   },
   "outputs": [],
   "source": [
    "select count(*) from employees where email is null"
   ]
  },
  {
   "cell_type": "code",
   "execution_count": 0,
   "metadata": {
    "application/vnd.databricks.v1+cell": {
     "cellMetadata": {
      "byteLimit": 2048000,
      "rowLimit": 10000
     },
     "inputWidgets": {},
     "nuid": "f6f04668-8043-4e32-930e-8770078ee149",
     "showTitle": false,
     "tableResultSettingsMap": {},
     "title": ""
    }
   },
   "outputs": [],
   "source": [
    "select distinct department, count(emp_id) from employees group by department having count(*) <20;"
   ]
  }
 ],
 "metadata": {
  "application/vnd.databricks.v1+notebook": {
   "computePreferences": null,
   "dashboards": [],
   "environmentMetadata": {
    "base_environment": "",
    "environment_version": "2"
   },
   "inputWidgetPreferences": null,
   "language": "sql",
   "notebookMetadata": {
    "mostRecentlyExecutedCommandWithImplicitDF": {
     "commandId": -1,
     "dataframes": [
      "_sqldf"
     ]
    },
    "pythonIndentUnit": 4
   },
   "notebookName": "class2",
   "widgets": {}
  },
  "language_info": {
   "name": "sql"
  }
 },
 "nbformat": 4,
 "nbformat_minor": 0
}
