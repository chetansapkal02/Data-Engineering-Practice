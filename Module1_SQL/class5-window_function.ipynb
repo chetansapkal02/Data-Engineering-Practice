{
 "cells": [
  {
   "cell_type": "code",
   "execution_count": 0,
   "metadata": {
    "application/vnd.databricks.v1+cell": {
     "cellMetadata": {
      "byteLimit": 2048000,
      "rowLimit": 10000
     },
     "inputWidgets": {},
     "nuid": "5a3dd55c-572e-42a4-803d-d0d35219db90",
     "showTitle": false,
     "tableResultSettingsMap": {},
     "title": ""
    }
   },
   "outputs": [],
   "source": [
    "--Gives each row a unique number based on the order_date.\n",
    "SELECT \n",
    "  order_id, \n",
    "  order_date,\n",
    "  ROW_NUMBER() OVER (ORDER BY order_date) AS row_num\n",
    "FROM orders;\n"
   ]
  },
  {
   "cell_type": "code",
   "execution_count": 0,
   "metadata": {
    "application/vnd.databricks.v1+cell": {
     "cellMetadata": {
      "byteLimit": 2048000,
      "rowLimit": 10000
     },
     "inputWidgets": {},
     "nuid": "fcc2d43a-c7b8-47d2-9731-ec38bbf19dc7",
     "showTitle": false,
     "tableResultSettingsMap": {},
     "title": ""
    }
   },
   "outputs": [],
   "source": [
    "-- Real-Life Use Case: Show first product bought by each customer\n",
    "\n",
    "SELECT \n",
    "c.first_name,od.product_name,od.order_id,\n",
    "ROW_NUMBER() OVER(PARTITION BY c.customer_id ORDER BY o.order_date) AS PURCHASE_SEQUENCE\n",
    " FROM customers c\n",
    "JOIN orders o ON c.customer_id = o.customer_id\n",
    "JOIN order_details od ON o.order_id = od.order_id\n",
    "\n",
    "\n",
    "---The First order is that where purchase_sequence=1"
   ]
  },
  {
   "cell_type": "code",
   "execution_count": 0,
   "metadata": {
    "application/vnd.databricks.v1+cell": {
     "cellMetadata": {
      "byteLimit": 2048000,
      "rowLimit": 10000
     },
     "inputWidgets": {},
     "nuid": "196a8019-b327-4481-b559-f3c56af28f7c",
     "showTitle": false,
     "tableResultSettingsMap": {},
     "title": ""
    }
   },
   "outputs": [],
   "source": [
    "\n",
    "--RANK()\n",
    "--Ranks rows by quantity; ties get same rank, but gaps are left in the sequence.\n",
    "SELECT product_name,quantity,\n",
    "RANK() OVER(ORDER BY quantity DESC) AS RANKING\n",
    " FROM order_details\n",
    "\n",
    "\n"
   ]
  },
  {
   "cell_type": "code",
   "execution_count": 0,
   "metadata": {
    "application/vnd.databricks.v1+cell": {
     "cellMetadata": {
      "byteLimit": 2048000,
      "rowLimit": 10000
     },
     "inputWidgets": {},
     "nuid": "03ec2f86-dd7a-4387-844b-826df2d887e4",
     "showTitle": false,
     "tableResultSettingsMap": {},
     "title": ""
    }
   },
   "outputs": [],
   "source": [
    "-- Real-Life Use Case: Assign bonus based on best-selling products in each order\n",
    "SELECT \n",
    "order_id,\n",
    "product_name,\n",
    "quantity,\n",
    "RANK() OVER(PARTITION BY order_id ORDER BY quantity DESC) AS RANKING\n",
    "\n",
    " FROM order_details"
   ]
  },
  {
   "cell_type": "code",
   "execution_count": 0,
   "metadata": {
    "application/vnd.databricks.v1+cell": {
     "cellMetadata": {
      "byteLimit": 2048000,
      "rowLimit": 10000
     },
     "inputWidgets": {},
     "nuid": "6aa78cec-4dad-44d7-b99a-59310665fa53",
     "showTitle": false,
     "tableResultSettingsMap": {},
     "title": ""
    }
   },
   "outputs": [],
   "source": [
    "\n",
    " \n",
    "--DENSE_RANK() -->RANK WITHOUT GAPS\n",
    "\n",
    "SELECT \n",
    "  product_name, \n",
    "  quantity,\n",
    "  DENSE_RANK() OVER (ORDER BY quantity DESC) AS DENSE_RANK,\n",
    "  RANK() OVER (ORDER BY quantity DESC) AS RANK\n",
    "FROM order_details;\n"
   ]
  },
  {
   "cell_type": "code",
   "execution_count": 0,
   "metadata": {
    "application/vnd.databricks.v1+cell": {
     "cellMetadata": {
      "byteLimit": 2048000,
      "rowLimit": 10000
     },
     "inputWidgets": {},
     "nuid": "d2d456b2-e60b-4ee6-b897-3cc29eb59e79",
     "showTitle": false,
     "tableResultSettingsMap": {},
     "title": ""
    }
   },
   "outputs": [],
   "source": [
    "--  Real-Life Use Case: Label product popularity tiers in clean rank buckets\n",
    "\n",
    "SELECT \n",
    "product_name,\n",
    "SUM(quantity) AS TOTAL_QUANTITY,\n",
    "DENSE_RANK() OVER (ORDER BY SUM(quantity) DESC) AS POPULARITY_RANK\n",
    "FROM order_details\n",
    "GROUP BY 1"
   ]
  },
  {
   "cell_type": "code",
   "execution_count": 0,
   "metadata": {
    "application/vnd.databricks.v1+cell": {
     "cellMetadata": {
      "byteLimit": 2048000,
      "rowLimit": 10000
     },
     "inputWidgets": {},
     "nuid": "3546bdcf-fd2a-4dfb-b740-db83d32c2fd3",
     "showTitle": false,
     "tableResultSettingsMap": {},
     "title": ""
    }
   },
   "outputs": [],
   "source": [
    "--LAG() - COMPARE WITH PREVIOUS ROWS\n",
    "\n",
    "SELECT\n",
    "order_id,order_date,\n",
    "LAG(order_date) OVER(ORDER BY order_date) AS PREVIOUS_ORDER_DATE\n",
    " FROM ORDERS"
   ]
  },
  {
   "cell_type": "code",
   "execution_count": 0,
   "metadata": {
    "application/vnd.databricks.v1+cell": {
     "cellMetadata": {
      "byteLimit": 2048000,
      "rowLimit": 10000
     },
     "inputWidgets": {},
     "nuid": "5a827567-fb2f-4301-8c17-88f5aa9da208",
     "showTitle": false,
     "tableResultSettingsMap": {},
     "title": ""
    }
   },
   "outputs": [],
   "source": [
    "\n",
    "-- Real-Life Use Case: Analyze customer's order trends (Did they buy more/less?)\n",
    "SELECT \n",
    "  c.first_name, \n",
    "  o.order_id, \n",
    "  od.quantity,\n",
    "  LAG(od.quantity) OVER (PARTITION BY c.customer_id ORDER BY o.order_date) AS previous_quantity\n",
    "FROM customers c\n",
    "JOIN orders o ON c.customer_id = o.customer_id\n",
    "JOIN order_details od ON o.order_id = od.order_id;"
   ]
  },
  {
   "cell_type": "code",
   "execution_count": 0,
   "metadata": {
    "application/vnd.databricks.v1+cell": {
     "cellMetadata": {
      "byteLimit": 2048000,
      "rowLimit": 10000
     },
     "inputWidgets": {},
     "nuid": "5235bd5a-91aa-4cec-a555-c25ada7d070a",
     "showTitle": false,
     "tableResultSettingsMap": {},
     "title": ""
    }
   },
   "outputs": [],
   "source": [
    "\n",
    "--LEAD() - COMPARE WITH NEXT ROWS\n",
    "\n",
    "SELECT\n",
    "order_id,order_date,\n",
    "LEAD(order_date) OVER(ORDER BY order_date) AS NEXT_ORDER_DATE\n",
    " FROM ORDERS\n",
    "     "
   ]
  },
  {
   "cell_type": "code",
   "execution_count": 0,
   "metadata": {
    "application/vnd.databricks.v1+cell": {
     "cellMetadata": {
      "byteLimit": 2048000,
      "rowLimit": 10000
     },
     "inputWidgets": {},
     "nuid": "cce4eb40-4ec0-4edd-814c-93058f8fe805",
     "showTitle": false,
     "tableResultSettingsMap": {},
     "title": ""
    }
   },
   "outputs": [],
   "source": [
    "\n",
    "--Real-Life Use Case: Predict what customers might buy next\n",
    "\n",
    "SELECT \n",
    "  c.first_name, \n",
    "  od.product_name,\n",
    "  LEAD(od.product_name) OVER (PARTITION BY c.customer_id ORDER BY o.order_date) AS possible_next_product\n",
    "FROM customers c\n",
    "JOIN orders o ON c.customer_id = o.customer_id\n",
    "JOIN order_details od ON o.order_id = od.order_id;"
   ]
  },
  {
   "cell_type": "code",
   "execution_count": 0,
   "metadata": {
    "application/vnd.databricks.v1+cell": {
     "cellMetadata": {
      "byteLimit": 2048000,
      "rowLimit": 10000
     },
     "inputWidgets": {},
     "nuid": "9233d6c1-e88b-4d16-b540-0421127cc944",
     "showTitle": false,
     "tableResultSettingsMap": {},
     "title": ""
    }
   },
   "outputs": [],
   "source": [
    "\n",
    "--SUM() ---> RUNNING TOTAL OR Cummulative Sum \n",
    "\n",
    "select order_id,product_name,quantity,\n",
    "SUM(quantity) OVER(ORDER BY order_id) AS CUMMULATIVE_SUM\n",
    "from order_details"
   ]
  },
  {
   "cell_type": "code",
   "execution_count": 0,
   "metadata": {
    "application/vnd.databricks.v1+cell": {
     "cellMetadata": {
      "byteLimit": 2048000,
      "rowLimit": 10000
     },
     "inputWidgets": {},
     "nuid": "d36d6a68-1484-46cd-9007-f7cc2e80946e",
     "showTitle": false,
     "tableResultSettingsMap": {},
     "title": ""
    }
   },
   "outputs": [],
   "source": [
    "\n",
    "select first_name, department,salary,\n",
    "SUM(salary) OVER(order by emp_id) as RUNNING_TOTAL \n",
    "from employees"
   ]
  }
 ],
 "metadata": {
  "application/vnd.databricks.v1+notebook": {
   "computePreferences": null,
   "dashboards": [],
   "environmentMetadata": {
    "base_environment": "",
    "environment_version": "2"
   },
   "inputWidgetPreferences": null,
   "language": "sql",
   "notebookMetadata": {
    "pythonIndentUnit": 4
   },
   "notebookName": "class5-window_function",
   "widgets": {}
  },
  "language_info": {
   "name": "sql"
  }
 },
 "nbformat": 4,
 "nbformat_minor": 0
}
