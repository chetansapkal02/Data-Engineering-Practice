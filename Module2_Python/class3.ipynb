{
 "cells": [
  {
   "cell_type": "markdown",
   "metadata": {
    "application/vnd.databricks.v1+cell": {
     "cellMetadata": {},
     "inputWidgets": {},
     "nuid": "e599c5b6-a2a3-49c3-a5d1-be8895c660b0",
     "showTitle": false,
     "tableResultSettingsMap": {},
     "title": ""
    }
   },
   "source": [
    "**Class 5: Error handling and Logging**\n"
   ]
  },
  {
   "cell_type": "code",
   "execution_count": 0,
   "metadata": {
    "application/vnd.databricks.v1+cell": {
     "cellMetadata": {
      "byteLimit": 2048000,
      "rowLimit": 10000
     },
     "inputWidgets": {},
     "nuid": "c82efe4c-aece-42cf-83c1-85ba13e84e2f",
     "showTitle": false,
     "tableResultSettingsMap": {},
     "title": ""
    }
   },
   "outputs": [],
   "source": [
    "marks = int(input(\"Enter your marks: \"))\n",
    "print(\"Normalized Score:\", 100 / marks)"
   ]
  },
  {
   "cell_type": "code",
   "execution_count": 0,
   "metadata": {
    "application/vnd.databricks.v1+cell": {
     "cellMetadata": {
      "byteLimit": 2048000,
      "rowLimit": 10000
     },
     "inputWidgets": {},
     "nuid": "114854f5-2a54-40f8-b6ce-87793ac2222f",
     "showTitle": false,
     "tableResultSettingsMap": {},
     "title": ""
    }
   },
   "outputs": [],
   "source": [
    "\n",
    "#try-except \n",
    "try:\n",
    "    marks = int(input(\"Enter your marks: \"))\n",
    "    print(\"Normalized Score:\", 100 / marks)\n",
    "\n",
    "except ZeroDivisionError:\n",
    "    print(\"❌ Cannot divide by zero\")\n",
    "except ValueError:\n",
    "    print(\"❌ Please enter a valid number\")"
   ]
  },
  {
   "cell_type": "code",
   "execution_count": 0,
   "metadata": {
    "application/vnd.databricks.v1+cell": {
     "cellMetadata": {
      "byteLimit": 2048000,
      "rowLimit": 10000
     },
     "inputWidgets": {},
     "nuid": "271cc5b2-56fe-4390-be64-1c5eb0fc3d01",
     "showTitle": false,
     "tableResultSettingsMap": {},
     "title": ""
    }
   },
   "outputs": [],
   "source": [
    "#Catch Multiple Errors + Use Else/Finally\n",
    "try:\n",
    "    a = int(input(\"Enter number A: \"))\n",
    "    b = int(input(\"Enter number B: \"))\n",
    "    result = a / b\n",
    "\n",
    "except ZeroDivisionError:\n",
    "    print(\"⚠️ Cannot divide by 0\")\n",
    "\n",
    "except ValueError:\n",
    "    print(\"⚠️ Enter only numbers\")\n",
    "    \n",
    "else:\n",
    "    print(\"Result:\", result)\n",
    "finally:\n",
    "    print(\"✅ Calculator task done\")"
   ]
  },
  {
   "cell_type": "code",
   "execution_count": 0,
   "metadata": {
    "application/vnd.databricks.v1+cell": {
     "cellMetadata": {
      "byteLimit": 2048000,
      "rowLimit": 10000
     },
     "inputWidgets": {},
     "nuid": "885781e2-6c8e-4989-88d1-6117b1f58451",
     "showTitle": false,
     "tableResultSettingsMap": {},
     "title": ""
    }
   },
   "outputs": [],
   "source": [
    "\n",
    "#How would you handle if someone enters a string for age in a form?\n",
    "age = input(\"Enter age: \")\n",
    "if age.isdigit():\n",
    "    print(\"Valid age:\", int(age))\n",
    "else:\n",
    "    print(\"⚠️ Invalid input — must be a number\")"
   ]
  },
  {
   "cell_type": "markdown",
   "metadata": {
    "application/vnd.databricks.v1+cell": {
     "cellMetadata": {},
     "inputWidgets": {},
     "nuid": "d697168d-1c2b-4aee-9186-672e86bcb210",
     "showTitle": false,
     "tableResultSettingsMap": {},
     "title": ""
    }
   },
   "source": [
    "**Intro to Logging (Real-World Tracking)**\n"
   ]
  },
  {
   "cell_type": "code",
   "execution_count": 0,
   "metadata": {
    "application/vnd.databricks.v1+cell": {
     "cellMetadata": {
      "byteLimit": 2048000,
      "rowLimit": 10000
     },
     "inputWidgets": {},
     "nuid": "5beb8e60-d9b1-4db9-a036-ff6d266e02fa",
     "showTitle": false,
     "tableResultSettingsMap": {},
     "title": ""
    }
   },
   "outputs": [],
   "source": [
    "import logging\n",
    "\n",
    "logging.basicConfig(level=logging.DEBUG)\n",
    "\n",
    "logging.debug(\"🛠 Debug — Internal variable set\")\n",
    "logging.info(\"ℹ️ Info — Starting process\")\n",
    "logging.warning(\"⚠️ Warning — Using default config\")\n",
    "logging.error(\"❌ Error — Invalid input received\")\n",
    "logging.critical(\"🔥 Critical — System failure\")"
   ]
  },
  {
   "cell_type": "code",
   "execution_count": 0,
   "metadata": {
    "application/vnd.databricks.v1+cell": {
     "cellMetadata": {
      "byteLimit": 2048000,
      "implicitDf": true,
      "rowLimit": 10000
     },
     "inputWidgets": {},
     "nuid": "31348d13-1260-496a-bba9-0919d2a58880",
     "showTitle": false,
     "tableResultSettingsMap": {},
     "title": ""
    }
   },
   "outputs": [],
   "source": [
    "\n",
    "%sql \n",
    "\n",
    "CREATE TABLE LOGGING_INFO(\n",
    "name STRING,\n",
    "Status STRING,\n",
    "date  STRING\n",
    "\n",
    ")"
   ]
  },
  {
   "cell_type": "code",
   "execution_count": 0,
   "metadata": {
    "application/vnd.databricks.v1+cell": {
     "cellMetadata": {
      "byteLimit": 2048000,
      "implicitDf": true,
      "rowLimit": 10000
     },
     "inputWidgets": {},
     "nuid": "0b86e7f9-8c33-481e-92da-9ff4f179b227",
     "showTitle": false,
     "tableResultSettingsMap": {},
     "title": ""
    }
   },
   "outputs": [],
   "source": [
    "%sql\n",
    "select * from LOGGING_INFO"
   ]
  },
  {
   "cell_type": "code",
   "execution_count": 0,
   "metadata": {
    "application/vnd.databricks.v1+cell": {
     "cellMetadata": {
      "byteLimit": 2048000,
      "rowLimit": 10000
     },
     "inputWidgets": {},
     "nuid": "843979a6-55d9-47b1-a389-539fc6580d37",
     "showTitle": false,
     "tableResultSettingsMap": {},
     "title": ""
    }
   },
   "outputs": [],
   "source": [
    "\n",
    "def update_status():\n",
    "    #some update statements\n",
    "\n",
    "def insert_status():\n",
    "    #insert about new job"
   ]
  }
 ],
 "metadata": {
  "application/vnd.databricks.v1+notebook": {
   "computePreferences": null,
   "dashboards": [],
   "environmentMetadata": {
    "base_environment": "",
    "environment_version": "3"
   },
   "inputWidgetPreferences": null,
   "language": "python",
   "notebookMetadata": {
    "mostRecentlyExecutedCommandWithImplicitDF": {
     "commandId": 8899304846711738,
     "dataframes": [
      "_sqldf"
     ]
    },
    "pythonIndentUnit": 4
   },
   "notebookName": "class3",
   "widgets": {}
  },
  "language_info": {
   "name": "python"
  }
 },
 "nbformat": 4,
 "nbformat_minor": 0
}
