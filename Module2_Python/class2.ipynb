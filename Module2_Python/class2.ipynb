{
 "cells": [
  {
   "cell_type": "markdown",
   "metadata": {
    "application/vnd.databricks.v1+cell": {
     "cellMetadata": {},
     "inputWidgets": {},
     "nuid": "232feefb-0c1a-4c13-9dca-7eff0676df23",
     "showTitle": false,
     "tableResultSettingsMap": {},
     "title": ""
    }
   },
   "source": [
    "**Class 4: File Handling**"
   ]
  },
  {
   "cell_type": "code",
   "execution_count": 0,
   "metadata": {
    "application/vnd.databricks.v1+cell": {
     "cellMetadata": {
      "byteLimit": 2048000,
      "rowLimit": 10000
     },
     "inputWidgets": {},
     "nuid": "85efff3b-0336-41c3-b77b-4d9c47d8974a",
     "showTitle": false,
     "tableResultSettingsMap": {},
     "title": ""
    }
   },
   "outputs": [],
   "source": [
    "#Basic Read the CSV File\n",
    "import csv\n",
    "\n",
    "with open('global_food_wastage_dataset.csv',mode='r') as file:\n",
    "    reader=csv.reader(file)\n",
    "    \n",
    "    #next is used when you want to skip the header of the csv\n",
    "    next(reader)\n",
    "    for row in reader:\n",
    "        print(row)"
   ]
  },
  {
   "cell_type": "code",
   "execution_count": 0,
   "metadata": {
    "application/vnd.databricks.v1+cell": {
     "cellMetadata": {
      "byteLimit": 2048000,
      "rowLimit": 10000
     },
     "inputWidgets": {},
     "nuid": "f3d12c6a-68a9-436a-ad52-8f43e08204e1",
     "showTitle": false,
     "tableResultSettingsMap": {},
     "title": ""
    }
   },
   "outputs": [],
   "source": [
    "\n",
    "import csv\n",
    "\n",
    "#only use some part of the file\n",
    "\n",
    "with open('global_food_wastage_dataset.csv',mode='r') as file:\n",
    "    reader=csv.DictReader(file)\n",
    "    \n",
    "   \n",
    "    for row in reader:\n",
    "        print(row['Country'])"
   ]
  },
  {
   "cell_type": "markdown",
   "metadata": {
    "application/vnd.databricks.v1+cell": {
     "cellMetadata": {},
     "inputWidgets": {},
     "nuid": "4ea5d41e-ea12-4df5-a905-ec451e058e99",
     "showTitle": false,
     "tableResultSettingsMap": {},
     "title": ""
    }
   },
   "source": [
    "**Writing to CSV**\n"
   ]
  },
  {
   "cell_type": "code",
   "execution_count": 0,
   "metadata": {
    "application/vnd.databricks.v1+cell": {
     "cellMetadata": {
      "byteLimit": 2048000,
      "rowLimit": 10000
     },
     "inputWidgets": {},
     "nuid": "1dd5cb90-bf6b-422a-94ea-f630e0f292da",
     "showTitle": false,
     "tableResultSettingsMap": {},
     "title": ""
    }
   },
   "outputs": [],
   "source": [
    "with open('output.csv',mode='w') as file:\n",
    "    writer=csv.writer(file)\n",
    "    writer.writerow(['Country','Wastage'])"
   ]
  },
  {
   "cell_type": "code",
   "execution_count": 0,
   "metadata": {
    "application/vnd.databricks.v1+cell": {
     "cellMetadata": {
      "byteLimit": 2048000,
      "rowLimit": 10000
     },
     "inputWidgets": {},
     "nuid": "074a633f-8973-4624-8d91-34163d3017e1",
     "showTitle": false,
     "tableResultSettingsMap": {},
     "title": ""
    }
   },
   "outputs": [],
   "source": [
    "\n",
    "#Read Lineby Line Logging File\n",
    "with open('log.txt',mode='r') as file:\n",
    "    count=0\n",
    "    for line in file:\n",
    "        if \"ERROR\" in line:\n",
    "            print(f\"🚨Alert at Line {count}:{line.strip()}\")\n",
    "        count+=1"
   ]
  },
  {
   "cell_type": "code",
   "execution_count": 0,
   "metadata": {
    "application/vnd.databricks.v1+cell": {
     "cellMetadata": {
      "byteLimit": 2048000,
      "rowLimit": 10000
     },
     "inputWidgets": {},
     "nuid": "5764899f-210e-4c4d-b946-098ef6f5f193",
     "showTitle": false,
     "tableResultSettingsMap": {},
     "title": ""
    }
   },
   "outputs": [],
   "source": [
    "#Fetching Data from API\n",
    "\n",
    "import requests\n",
    "\n",
    "url = \"https://cricbuzz-cricket.p.rapidapi.com/mcenter/v1/41881/comm\"\n",
    "\n",
    "headers = {\n",
    "\t\"x-rapidapi-key\": \"735d1841c7msh5908b4d65739c2ap1c43c0jsnff541268d977\",\n",
    "\t\"x-rapidapi-host\": \"cricbuzz-cricket.p.rapidapi.com\"\n",
    "}\n",
    "\n",
    "response = requests.get(url, headers=headers)\n",
    "\n",
    "print(response.json())"
   ]
  },
  {
   "cell_type": "markdown",
   "metadata": {
    "application/vnd.databricks.v1+cell": {
     "cellMetadata": {},
     "inputWidgets": {},
     "nuid": "8cdf632c-d72a-44f2-93da-ee808e8a36cf",
     "showTitle": false,
     "tableResultSettingsMap": {},
     "title": ""
    }
   },
   "source": [
    "🧪 **MINI PROJECT: File + API + Logic**\n",
    "✅ **Task:**\n",
    "\n",
    "- Fetch users from API\n",
    "- Filter users from a specific city\n",
    "- Write to a CSV"
   ]
  },
  {
   "cell_type": "code",
   "execution_count": 0,
   "metadata": {
    "application/vnd.databricks.v1+cell": {
     "cellMetadata": {
      "byteLimit": 2048000,
      "rowLimit": 10000
     },
     "inputWidgets": {},
     "nuid": "70ef9bbc-fa78-480e-80c3-32cc782bdbad",
     "showTitle": false,
     "tableResultSettingsMap": {},
     "title": ""
    }
   },
   "outputs": [],
   "source": [
    "import requests, csv\n",
    "\n",
    "response = requests.get('https://jsonplaceholder.typicode.com/users')\n",
    "\n",
    "if response.status_code == 200:\n",
    "    users = response.json()\n",
    "    print(users)\n",
    "\n",
    "    with open('city_users.csv', 'w', newline='') as file:\n",
    "        writer = csv.writer(file)\n",
    "        writer.writerow(['Name', 'City'])\n",
    "\n",
    "        for user in users:\n",
    "            if user['address']['city'] == 'Lebsackbury':\n",
    "                writer.writerow([user['name'], user['address']['city']])\n",
    "else:\n",
    "    print(\"Failed to fetch data\")"
   ]
  }
 ],
 "metadata": {
  "application/vnd.databricks.v1+notebook": {
   "computePreferences": null,
   "dashboards": [],
   "environmentMetadata": {
    "base_environment": "",
    "environment_version": "3"
   },
   "inputWidgetPreferences": null,
   "language": "python",
   "notebookMetadata": {
    "pythonIndentUnit": 4
   },
   "notebookName": "class2",
   "widgets": {}
  },
  "language_info": {
   "name": "python"
  }
 },
 "nbformat": 4,
 "nbformat_minor": 0
}
