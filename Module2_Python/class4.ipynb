{
 "cells": [
  {
   "cell_type": "markdown",
   "metadata": {
    "application/vnd.databricks.v1+cell": {
     "cellMetadata": {},
     "inputWidgets": {},
     "nuid": "b06adc8b-7c51-4064-a19f-73f138d9ca60",
     "showTitle": false,
     "tableResultSettingsMap": {},
     "title": ""
    }
   },
   "source": [
    "**Class 8: OOP in Python**\n"
   ]
  },
  {
   "cell_type": "markdown",
   "metadata": {
    "application/vnd.databricks.v1+cell": {
     "cellMetadata": {},
     "inputWidgets": {},
     "nuid": "f234e25e-00b7-41e2-ab8e-9c5947e30e29",
     "showTitle": false,
     "tableResultSettingsMap": {},
     "title": ""
    }
   },
   "source": [
    "- Data Engineers build reusable tools: readers, transformers, loggers.\n",
    "- OOP helps you modularize, scale, and reorganize pipeline steps cleanly.\n",
    "- Instead of repeating code for each file format/API — define a class once, use everywhere"
   ]
  },
  {
   "cell_type": "markdown",
   "metadata": {
    "application/vnd.databricks.v1+cell": {
     "cellMetadata": {},
     "inputWidgets": {},
     "nuid": "8c0ce35c-ea61-4a54-ba34-571e2a0aadba",
     "showTitle": false,
     "tableResultSettingsMap": {},
     "title": ""
    }
   },
   "source": [
    "**Classes & Objects (Core Foundation)**\n"
   ]
  },
  {
   "cell_type": "code",
   "execution_count": 0,
   "metadata": {
    "application/vnd.databricks.v1+cell": {
     "cellMetadata": {
      "byteLimit": 2048000,
      "rowLimit": 10000
     },
     "inputWidgets": {},
     "nuid": "dc6a4316-a7b0-46d6-b6d2-8cbc41f35176",
     "showTitle": false,
     "tableResultSettingsMap": {},
     "title": ""
    }
   },
   "outputs": [],
   "source": [
    "\n",
    "class Customer:\n",
    "  def __init__(self,name):\n",
    "    self.name = name\n",
    "\n",
    "c1=Customer('Radharani')\n",
    "print(c1.name)"
   ]
  },
  {
   "cell_type": "code",
   "execution_count": 0,
   "metadata": {
    "application/vnd.databricks.v1+cell": {
     "cellMetadata": {
      "byteLimit": 2048000,
      "rowLimit": 10000
     },
     "inputWidgets": {},
     "nuid": "600a6f2f-3c74-4268-92c4-af2d95274fa6",
     "showTitle": false,
     "tableResultSettingsMap": {},
     "title": ""
    }
   },
   "outputs": [],
   "source": [
    "class Customer:\n",
    "    def __init__(self,name):\n",
    "        self.name = name\n",
    "c1 = Customer(\"Atul\")\n",
    "print(c1.name)"
   ]
  },
  {
   "cell_type": "code",
   "execution_count": 0,
   "metadata": {
    "application/vnd.databricks.v1+cell": {
     "cellMetadata": {
      "byteLimit": 2048000,
      "rowLimit": 10000
     },
     "inputWidgets": {},
     "nuid": "be7fb6e7-d058-4c38-85e7-7109f5911ab9",
     "showTitle": false,
     "tableResultSettingsMap": {},
     "title": ""
    }
   },
   "outputs": [],
   "source": [
    "#Build a PipelineStep Class\n",
    "\n",
    "class PipelineStep:\n",
    "\n",
    "    def __init__(self, step_name):\n",
    "        self.step_name = step_name\n",
    "    \n",
    "    def execute(self):\n",
    "        print(f\"🚀 Executing step: {self.step_name}\")\n",
    "\n",
    "ingest=PipelineStep(\"Ingestion\")\n",
    "transform=PipelineStep(\"Tranformation\")\n",
    "\n",
    "ingest.execute()\n",
    "transform.execute()"
   ]
  },
  {
   "cell_type": "markdown",
   "metadata": {
    "application/vnd.databricks.v1+cell": {
     "cellMetadata": {},
     "inputWidgets": {},
     "nuid": "8031b975-2dee-4464-a7c9-3fb401415ded",
     "showTitle": false,
     "tableResultSettingsMap": {},
     "title": ""
    }
   },
   "source": [
    "**## Encapsulation – Protect Internal Logic**\n"
   ]
  },
  {
   "cell_type": "code",
   "execution_count": 0,
   "metadata": {
    "application/vnd.databricks.v1+cell": {
     "cellMetadata": {
      "byteLimit": 2048000,
      "rowLimit": 10000
     },
     "inputWidgets": {},
     "nuid": "1c69bc3b-d8df-4d85-89f7-d8487a7068a0",
     "showTitle": false,
     "tableResultSettingsMap": {},
     "title": ""
    }
   },
   "outputs": [],
   "source": [
    "\n",
    "class DatabaseConnector:\n",
    "    def __init__(self):\n",
    "        self._credentials = \"user:pass@123\"   #protected Variable credential\n",
    "\n",
    "    \n",
    "    def connect(self):\n",
    "        print(\"🔐 Connecting using credentials...\")\n",
    "        return \"DB connection established\"\n",
    "    \n",
    "db=DatabaseConnector()\n",
    "print(db.connect())"
   ]
  },
  {
   "cell_type": "markdown",
   "metadata": {
    "application/vnd.databricks.v1+cell": {
     "cellMetadata": {},
     "inputWidgets": {},
     "nuid": "09e1198b-3a71-49c2-99da-38b4ed7a5d8f",
     "showTitle": false,
     "tableResultSettingsMap": {},
     "title": ""
    }
   },
   "source": [
    "### **Inheritance – Reuse Code with Variants**\n"
   ]
  },
  {
   "cell_type": "code",
   "execution_count": 0,
   "metadata": {
    "application/vnd.databricks.v1+cell": {
     "cellMetadata": {
      "byteLimit": 2048000,
      "rowLimit": 10000
     },
     "inputWidgets": {},
     "nuid": "c36edb51-adf4-4868-b849-4782857bf4d6",
     "showTitle": false,
     "tableResultSettingsMap": {},
     "title": ""
    }
   },
   "outputs": [],
   "source": [
    "\n",
    "class Reader():\n",
    "  def read(self):\n",
    "    return \"Reading from Base Reader....\"\n",
    "\n",
    "\n",
    "class CSVReader(Reader):\n",
    "  def read(self):\n",
    "    return \"📄 Reading from CSV\"\n",
    "\n",
    "\n",
    "class APIReader(Reader):\n",
    "    def read(self):\n",
    "        return \"🌐 Fetching from API\"\n",
    "      \n",
    "\n",
    "print(CSVReader().read())\n",
    "print(APIReader().read())"
   ]
  },
  {
   "cell_type": "markdown",
   "metadata": {
    "application/vnd.databricks.v1+cell": {
     "cellMetadata": {},
     "inputWidgets": {},
     "nuid": "2e01fff8-9338-4dcd-9d4e-f518e7246fb6",
     "showTitle": false,
     "tableResultSettingsMap": {},
     "title": ""
    }
   },
   "source": [
    "**Polymorphism – Same Interface, Different Behavior**\n"
   ]
  },
  {
   "cell_type": "code",
   "execution_count": 0,
   "metadata": {
    "application/vnd.databricks.v1+cell": {
     "cellMetadata": {
      "byteLimit": 2048000,
      "rowLimit": 10000
     },
     "inputWidgets": {},
     "nuid": "386e5b3e-9919-48d4-ab16-2c98a4a60623",
     "showTitle": false,
     "tableResultSettingsMap": {},
     "title": ""
    }
   },
   "outputs": [],
   "source": [
    "def run_reader(reader):\n",
    "  print(reader.read())\n",
    "\n",
    "run_reader(CSVReader())\n",
    "run_reader(APIReader())"
   ]
  },
  {
   "cell_type": "markdown",
   "metadata": {
    "application/vnd.databricks.v1+cell": {
     "cellMetadata": {},
     "inputWidgets": {},
     "nuid": "fae2c960-58e0-4731-90b5-06285fabea69",
     "showTitle": false,
     "tableResultSettingsMap": {},
     "title": ""
    }
   },
   "source": [
    "**Abstraction – Enforce Structure Across Team**\n"
   ]
  },
  {
   "cell_type": "code",
   "execution_count": 0,
   "metadata": {
    "application/vnd.databricks.v1+cell": {
     "cellMetadata": {
      "byteLimit": 2048000,
      "rowLimit": 10000
     },
     "inputWidgets": {},
     "nuid": "da4e96df-9182-4c74-a3c5-2e519c387e96",
     "showTitle": false,
     "tableResultSettingsMap": {},
     "title": ""
    }
   },
   "outputs": [],
   "source": [
    "from abc import ABC, abstractmethod\n",
    "\n",
    "class Ingestor(ABC):\n",
    "    @abstractmethod\n",
    "    def read(self):\n",
    "        pass\n",
    "\n",
    "class CSVIngestor(Ingestor):\n",
    "    def read(self):\n",
    "        return \"Reading CSV...\"\n",
    "\n",
    "class APIIngestor(Ingestor):\n",
    "    def read(self):\n",
    "        return \"Calling API...\"\n",
    "\n",
    "def run(ingestor):\n",
    "    print(ingestor.read())\n",
    "\n",
    "run(CSVIngestor())\n",
    "run(APIIngestor())"
   ]
  },
  {
   "cell_type": "markdown",
   "metadata": {
    "application/vnd.databricks.v1+cell": {
     "cellMetadata": {},
     "inputWidgets": {},
     "nuid": "4ad6c944-c310-4dbf-9e99-331a54486882",
     "showTitle": false,
     "tableResultSettingsMap": {},
     "title": ""
    }
   },
   "source": [
    "## **Real Data Pipeline: OOP Version**"
   ]
  },
  {
   "cell_type": "code",
   "execution_count": 0,
   "metadata": {
    "application/vnd.databricks.v1+cell": {
     "cellMetadata": {
      "byteLimit": 2048000,
      "rowLimit": 10000
     },
     "inputWidgets": {},
     "nuid": "625ca7ca-ca01-4b76-958c-b7affd9d61c2",
     "showTitle": false,
     "tableResultSettingsMap": {},
     "title": ""
    }
   },
   "outputs": [],
   "source": [
    "class FileIngestor:\n",
    "    def __init__(self, path):\n",
    "        self.path = path\n",
    "\n",
    "    def read(self):\n",
    "        print(f\"Reading data from {self.path}\")\n",
    "        return f\"Raw data from {self.path}\"\n",
    "\n",
    "class Cleaner:\n",
    "    def clean(self, data):\n",
    "        print(\"Cleaning data...\")\n",
    "        return f\"Cleaned version of: {data}\"\n",
    "\n",
    "class Writer:\n",
    "    def write(self, data):\n",
    "        print(f\"Writing data: {data}\")\n",
    "        return \"Write success\"\n",
    "\n",
    "# Execute pipeline\n",
    "reader = FileIngestor(\"data.csv\")\n",
    "raw_data = reader.read()\n",
    "\n",
    "cleaned = Cleaner().clean(raw_data)\n",
    "Writer().write(cleaned)"
   ]
  }
 ],
 "metadata": {
  "application/vnd.databricks.v1+notebook": {
   "computePreferences": null,
   "dashboards": [],
   "environmentMetadata": {
    "base_environment": "",
    "environment_version": "3"
   },
   "inputWidgetPreferences": null,
   "language": "python",
   "notebookMetadata": {
    "pythonIndentUnit": 4
   },
   "notebookName": "class4",
   "widgets": {}
  },
  "language_info": {
   "name": "python"
  }
 },
 "nbformat": 4,
 "nbformat_minor": 0
}
